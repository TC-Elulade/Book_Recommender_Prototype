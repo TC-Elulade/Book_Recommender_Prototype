{
 "cells": [
  {
   "attachments": {},
   "cell_type": "markdown",
   "metadata": {},
   "source": [
    "# **Personalisation and Machine Learning Mini-Project**\n",
    "## Content-based filtering of Bookstore Data\n",
    "\n",
    "In this notebook, I will be using content-base filtering on a Goodreads dataset to create recommendations based on genre and book synopsis for veteran bookworms and casual book enjoyers. My dataset is taken from https://www.kaggle.com/datasets/ishikajohari/best-books-10k-multi-genre-data.\n",
    "\n",
    "The code for this notebook is partially adapted from Wk2.1 notebook."
   ]
  },
  {
   "attachments": {},
   "cell_type": "markdown",
   "metadata": {},
   "source": [
    "### Load and Prepare Dataset"
   ]
  },
  {
   "cell_type": "code",
   "execution_count": 32,
   "metadata": {},
   "outputs": [],
   "source": [
    "## IMPORT CELL ##\n",
    "import pandas as pd \n",
    "import numpy as np \n",
    "import json\n",
    "import matplotlib.pyplot as plt\n",
    "import seaborn as sns\n",
    "from scipy import spatial\n",
    "from sklearn.feature_extraction.text import TfidfVectorizer\n",
    "from sklearn.metrics.pairwise import cosine_similarity\n"
   ]
  },
  {
   "cell_type": "code",
   "execution_count": 2,
   "metadata": {},
   "outputs": [
    {
     "data": {
      "text/html": [
       "<div>\n",
       "<style scoped>\n",
       "    .dataframe tbody tr th:only-of-type {\n",
       "        vertical-align: middle;\n",
       "    }\n",
       "\n",
       "    .dataframe tbody tr th {\n",
       "        vertical-align: top;\n",
       "    }\n",
       "\n",
       "    .dataframe thead th {\n",
       "        text-align: right;\n",
       "    }\n",
       "</style>\n",
       "<table border=\"1\" class=\"dataframe\">\n",
       "  <thead>\n",
       "    <tr style=\"text-align: right;\">\n",
       "      <th></th>\n",
       "      <th>Unnamed: 0</th>\n",
       "      <th>Book</th>\n",
       "      <th>Author</th>\n",
       "      <th>Description</th>\n",
       "      <th>Genres</th>\n",
       "      <th>Avg_Rating</th>\n",
       "      <th>Num_Ratings</th>\n",
       "      <th>URL</th>\n",
       "    </tr>\n",
       "  </thead>\n",
       "  <tbody>\n",
       "    <tr>\n",
       "      <th>0</th>\n",
       "      <td>0</td>\n",
       "      <td>To Kill a Mockingbird</td>\n",
       "      <td>Harper Lee</td>\n",
       "      <td>The unforgettable novel of a childhood in a sl...</td>\n",
       "      <td>['Classics', 'Fiction', 'Historical Fiction', ...</td>\n",
       "      <td>4.27</td>\n",
       "      <td>5,691,311</td>\n",
       "      <td>https://www.goodreads.com/book/show/2657.To_Ki...</td>\n",
       "    </tr>\n",
       "    <tr>\n",
       "      <th>1</th>\n",
       "      <td>1</td>\n",
       "      <td>Harry Potter and the Philosopher’s Stone (Harr...</td>\n",
       "      <td>J.K. Rowling</td>\n",
       "      <td>Harry Potter thinks he is an ordinary boy - un...</td>\n",
       "      <td>['Fantasy', 'Fiction', 'Young Adult', 'Magic',...</td>\n",
       "      <td>4.47</td>\n",
       "      <td>9,278,135</td>\n",
       "      <td>https://www.goodreads.com/book/show/72193.Harr...</td>\n",
       "    </tr>\n",
       "    <tr>\n",
       "      <th>2</th>\n",
       "      <td>2</td>\n",
       "      <td>Pride and Prejudice</td>\n",
       "      <td>Jane Austen</td>\n",
       "      <td>Since its immediate success in 1813, Pride and...</td>\n",
       "      <td>['Classics', 'Fiction', 'Romance', 'Historical...</td>\n",
       "      <td>4.28</td>\n",
       "      <td>3,944,155</td>\n",
       "      <td>https://www.goodreads.com/book/show/1885.Pride...</td>\n",
       "    </tr>\n",
       "    <tr>\n",
       "      <th>3</th>\n",
       "      <td>3</td>\n",
       "      <td>The Diary of a Young Girl</td>\n",
       "      <td>Anne Frank</td>\n",
       "      <td>Discovered in the attic in which she spent the...</td>\n",
       "      <td>['Classics', 'Nonfiction', 'History', 'Biograp...</td>\n",
       "      <td>4.18</td>\n",
       "      <td>3,488,438</td>\n",
       "      <td>https://www.goodreads.com/book/show/48855.The_...</td>\n",
       "    </tr>\n",
       "    <tr>\n",
       "      <th>4</th>\n",
       "      <td>4</td>\n",
       "      <td>Animal Farm</td>\n",
       "      <td>George Orwell</td>\n",
       "      <td>Librarian's note: There is an Alternate Cover ...</td>\n",
       "      <td>['Classics', 'Fiction', 'Dystopia', 'Fantasy',...</td>\n",
       "      <td>3.98</td>\n",
       "      <td>3,575,172</td>\n",
       "      <td>https://www.goodreads.com/book/show/170448.Ani...</td>\n",
       "    </tr>\n",
       "  </tbody>\n",
       "</table>\n",
       "</div>"
      ],
      "text/plain": [
       "   Unnamed: 0                                               Book  \\\n",
       "0           0                              To Kill a Mockingbird   \n",
       "1           1  Harry Potter and the Philosopher’s Stone (Harr...   \n",
       "2           2                                Pride and Prejudice   \n",
       "3           3                          The Diary of a Young Girl   \n",
       "4           4                                        Animal Farm   \n",
       "\n",
       "          Author                                        Description  \\\n",
       "0     Harper Lee  The unforgettable novel of a childhood in a sl...   \n",
       "1   J.K. Rowling  Harry Potter thinks he is an ordinary boy - un...   \n",
       "2    Jane Austen  Since its immediate success in 1813, Pride and...   \n",
       "3     Anne Frank  Discovered in the attic in which she spent the...   \n",
       "4  George Orwell  Librarian's note: There is an Alternate Cover ...   \n",
       "\n",
       "                                              Genres  Avg_Rating Num_Ratings  \\\n",
       "0  ['Classics', 'Fiction', 'Historical Fiction', ...        4.27   5,691,311   \n",
       "1  ['Fantasy', 'Fiction', 'Young Adult', 'Magic',...        4.47   9,278,135   \n",
       "2  ['Classics', 'Fiction', 'Romance', 'Historical...        4.28   3,944,155   \n",
       "3  ['Classics', 'Nonfiction', 'History', 'Biograp...        4.18   3,488,438   \n",
       "4  ['Classics', 'Fiction', 'Dystopia', 'Fantasy',...        3.98   3,575,172   \n",
       "\n",
       "                                                 URL  \n",
       "0  https://www.goodreads.com/book/show/2657.To_Ki...  \n",
       "1  https://www.goodreads.com/book/show/72193.Harr...  \n",
       "2  https://www.goodreads.com/book/show/1885.Pride...  \n",
       "3  https://www.goodreads.com/book/show/48855.The_...  \n",
       "4  https://www.goodreads.com/book/show/170448.Ani...  "
      ]
     },
     "execution_count": 2,
     "metadata": {},
     "output_type": "execute_result"
    }
   ],
   "source": [
    "# Load in dataset #\n",
    "books = pd.read_csv('data/goodreads_data.csv')\n",
    "books.head()"
   ]
  },
  {
   "attachments": {},
   "cell_type": "markdown",
   "metadata": {},
   "source": [
    "As the genres are already in a usable state, we can just clean up the dataset by removing unnecessary columns and any empty rows."
   ]
  },
  {
   "cell_type": "code",
   "execution_count": 3,
   "metadata": {},
   "outputs": [
    {
     "name": "stdout",
     "output_type": "stream",
     "text": [
      "After removing empty descriptions, there are 9923 to work with.\n"
     ]
    },
    {
     "data": {
      "text/html": [
       "<div>\n",
       "<style scoped>\n",
       "    .dataframe tbody tr th:only-of-type {\n",
       "        vertical-align: middle;\n",
       "    }\n",
       "\n",
       "    .dataframe tbody tr th {\n",
       "        vertical-align: top;\n",
       "    }\n",
       "\n",
       "    .dataframe thead th {\n",
       "        text-align: right;\n",
       "    }\n",
       "</style>\n",
       "<table border=\"1\" class=\"dataframe\">\n",
       "  <thead>\n",
       "    <tr style=\"text-align: right;\">\n",
       "      <th></th>\n",
       "      <th>Book</th>\n",
       "      <th>Author</th>\n",
       "      <th>Description</th>\n",
       "      <th>Genres</th>\n",
       "      <th>Avg_Rating</th>\n",
       "      <th>Num_Ratings</th>\n",
       "      <th>URL</th>\n",
       "    </tr>\n",
       "  </thead>\n",
       "  <tbody>\n",
       "    <tr>\n",
       "      <th>0</th>\n",
       "      <td>To Kill a Mockingbird</td>\n",
       "      <td>Harper Lee</td>\n",
       "      <td>The unforgettable novel of a childhood in a sl...</td>\n",
       "      <td>['Classics', 'Fiction', 'Historical Fiction', ...</td>\n",
       "      <td>4.27</td>\n",
       "      <td>5,691,311</td>\n",
       "      <td>https://www.goodreads.com/book/show/2657.To_Ki...</td>\n",
       "    </tr>\n",
       "    <tr>\n",
       "      <th>1</th>\n",
       "      <td>Harry Potter and the Philosopher’s Stone (Harr...</td>\n",
       "      <td>J.K. Rowling</td>\n",
       "      <td>Harry Potter thinks he is an ordinary boy - un...</td>\n",
       "      <td>['Fantasy', 'Fiction', 'Young Adult', 'Magic',...</td>\n",
       "      <td>4.47</td>\n",
       "      <td>9,278,135</td>\n",
       "      <td>https://www.goodreads.com/book/show/72193.Harr...</td>\n",
       "    </tr>\n",
       "    <tr>\n",
       "      <th>2</th>\n",
       "      <td>Pride and Prejudice</td>\n",
       "      <td>Jane Austen</td>\n",
       "      <td>Since its immediate success in 1813, Pride and...</td>\n",
       "      <td>['Classics', 'Fiction', 'Romance', 'Historical...</td>\n",
       "      <td>4.28</td>\n",
       "      <td>3,944,155</td>\n",
       "      <td>https://www.goodreads.com/book/show/1885.Pride...</td>\n",
       "    </tr>\n",
       "    <tr>\n",
       "      <th>3</th>\n",
       "      <td>The Diary of a Young Girl</td>\n",
       "      <td>Anne Frank</td>\n",
       "      <td>Discovered in the attic in which she spent the...</td>\n",
       "      <td>['Classics', 'Nonfiction', 'History', 'Biograp...</td>\n",
       "      <td>4.18</td>\n",
       "      <td>3,488,438</td>\n",
       "      <td>https://www.goodreads.com/book/show/48855.The_...</td>\n",
       "    </tr>\n",
       "    <tr>\n",
       "      <th>4</th>\n",
       "      <td>Animal Farm</td>\n",
       "      <td>George Orwell</td>\n",
       "      <td>Librarian's note: There is an Alternate Cover ...</td>\n",
       "      <td>['Classics', 'Fiction', 'Dystopia', 'Fantasy',...</td>\n",
       "      <td>3.98</td>\n",
       "      <td>3,575,172</td>\n",
       "      <td>https://www.goodreads.com/book/show/170448.Ani...</td>\n",
       "    </tr>\n",
       "  </tbody>\n",
       "</table>\n",
       "</div>"
      ],
      "text/plain": [
       "                                                Book         Author  \\\n",
       "0                              To Kill a Mockingbird     Harper Lee   \n",
       "1  Harry Potter and the Philosopher’s Stone (Harr...   J.K. Rowling   \n",
       "2                                Pride and Prejudice    Jane Austen   \n",
       "3                          The Diary of a Young Girl     Anne Frank   \n",
       "4                                        Animal Farm  George Orwell   \n",
       "\n",
       "                                         Description  \\\n",
       "0  The unforgettable novel of a childhood in a sl...   \n",
       "1  Harry Potter thinks he is an ordinary boy - un...   \n",
       "2  Since its immediate success in 1813, Pride and...   \n",
       "3  Discovered in the attic in which she spent the...   \n",
       "4  Librarian's note: There is an Alternate Cover ...   \n",
       "\n",
       "                                              Genres  Avg_Rating Num_Ratings  \\\n",
       "0  ['Classics', 'Fiction', 'Historical Fiction', ...        4.27   5,691,311   \n",
       "1  ['Fantasy', 'Fiction', 'Young Adult', 'Magic',...        4.47   9,278,135   \n",
       "2  ['Classics', 'Fiction', 'Romance', 'Historical...        4.28   3,944,155   \n",
       "3  ['Classics', 'Nonfiction', 'History', 'Biograp...        4.18   3,488,438   \n",
       "4  ['Classics', 'Fiction', 'Dystopia', 'Fantasy',...        3.98   3,575,172   \n",
       "\n",
       "                                                 URL  \n",
       "0  https://www.goodreads.com/book/show/2657.To_Ki...  \n",
       "1  https://www.goodreads.com/book/show/72193.Harr...  \n",
       "2  https://www.goodreads.com/book/show/1885.Pride...  \n",
       "3  https://www.goodreads.com/book/show/48855.The_...  \n",
       "4  https://www.goodreads.com/book/show/170448.Ani...  "
      ]
     },
     "execution_count": 3,
     "metadata": {},
     "output_type": "execute_result"
    }
   ],
   "source": [
    "# Check for null rows\n",
    "books.isnull().any()  #Some books have no descriptions in the dataset\n",
    "# Remove empty values so that results won't be affected\n",
    "books.dropna(inplace=True)\n",
    "print('After removing empty descriptions, there are',\n",
    "      len(books), 'to work with.')\n",
    "books = books.drop('Unnamed: 0', axis=1)\n",
    "books.head()"
   ]
  },
  {
   "cell_type": "code",
   "execution_count": 4,
   "metadata": {},
   "outputs": [],
   "source": [
    "books['Genres'] = books['Genres'].str.strip('[]').str.replace(' ','').str.replace(\"'\",'')\n",
    "books['Genres'] = books['Genres'].str.split(',')"
   ]
  },
  {
   "attachments": {},
   "cell_type": "markdown",
   "metadata": {},
   "source": [
    "### *Content-Based Filtering Recommender: By Genre*\n",
    "\n",
    "The first recommendation system will be based on the book genres in the dataset."
   ]
  },
  {
   "attachments": {},
   "cell_type": "markdown",
   "metadata": {},
   "source": [
    "#### Looking at Dataset Statistics"
   ]
  },
  {
   "cell_type": "code",
   "execution_count": 5,
   "metadata": {},
   "outputs": [
    {
     "data": {
      "image/png": "[encoded data removed]",
      "text/plain": [
       "<Figure size 1200x1000 with 1 Axes>"
      ]
     },
     "metadata": {},
     "output_type": "display_data"
    }
   ],
   "source": [
    "# We can create a bar chart to see how many books fall under each genre.\n",
    "\n",
    "plt.subplots(figsize=(12,10))\n",
    "list1 = []\n",
    "for i in books['Genres']:\n",
    "    list1.extend(i)\n",
    "ax = pd.Series(list1).value_counts()[:10].sort_values(ascending=True).plot.barh(width=0.9,color=sns.color_palette('hls',10))\n",
    "for i, v in enumerate(pd.Series(list1).value_counts()[:10].sort_values(ascending=True).values): \n",
    "    ax.text(.8, i, v,fontsize=12,color='white',weight='bold')\n",
    "plt.title('Top Genres')\n",
    "plt.show()"
   ]
  },
  {
   "attachments": {},
   "cell_type": "markdown",
   "metadata": {},
   "source": [
    "In this dataset, 'fiction', 'nonfiction' and 'audiobook' are included as genres. Although it can be argued that fiction and non-fiction can be argued to be broad genres, audiobook is just refering to the story's format."
   ]
  },
  {
   "cell_type": "code",
   "execution_count": 6,
   "metadata": {},
   "outputs": [],
   "source": [
    "for i,j in zip(books['Genres'],books.index):\n",
    "    list2=[]\n",
    "    list2=i\n",
    "    list2.sort()\n",
    "    books.loc[j,'Genres']=str(list2)\n",
    "books['Genres'] = books['Genres'].str.strip('[]').str.replace(' ','').str.replace(\"'\",'')\n",
    "books['Genres'] = books['Genres'].str.split(',')"
   ]
  },
  {
   "cell_type": "code",
   "execution_count": 7,
   "metadata": {},
   "outputs": [
    {
     "data": {
      "text/plain": [
       "['Classics',\n",
       " 'Fiction',\n",
       " 'Historical',\n",
       " 'HistoricalFiction',\n",
       " 'Literature',\n",
       " 'School',\n",
       " 'YoungAdult',\n",
       " 'Childrens',\n",
       " 'Fantasy',\n",
       " 'Magic']"
      ]
     },
     "execution_count": 7,
     "metadata": {},
     "output_type": "execute_result"
    }
   ],
   "source": [
    "# Find unique genres in the dataset\n",
    "\n",
    "genre_list = []\n",
    "for index, row in books.iterrows():\n",
    "    genres = row[\"Genres\"]\n",
    "    \n",
    "    for genre in genres:\n",
    "        if genre not in genre_list:\n",
    "            genre_list.append(genre)\n",
    "genre_list[:10] #now we have a list with unique genres"
   ]
  },
  {
   "cell_type": "code",
   "execution_count": 8,
   "metadata": {},
   "outputs": [],
   "source": [
    "# Convert the genres into binaries\n",
    "\n",
    "def binary(GenreList):\n",
    "    binaryList = []\n",
    "    \n",
    "    for genre in genre_list:\n",
    "        if genre in GenreList:\n",
    "            binaryList.append(1)\n",
    "        else:\n",
    "            binaryList.append(0)\n",
    "    \n",
    "    return binaryList"
   ]
  },
  {
   "attachments": {},
   "cell_type": "markdown",
   "metadata": {},
   "source": [
    "### One Hot Encoding and Similarity\n",
    "\n",
    "Now that we know the unique genres in the dataset, we can generate a one-hot encoding. This is so that the genres can be represented as a feature vector for the recommender."
   ]
  },
  {
   "cell_type": "code",
   "execution_count": 9,
   "metadata": {},
   "outputs": [
    {
     "data": {
      "text/plain": [
       "0    [1, 1, 1, 1, 1, 1, 1, 0, 0, 0, 0, 0, 0, 0, 0, ...\n",
       "1    [1, 1, 0, 0, 0, 0, 1, 1, 1, 1, 1, 0, 0, 0, 0, ...\n",
       "2    [1, 1, 1, 1, 1, 0, 0, 0, 0, 0, 0, 1, 1, 0, 0, ...\n",
       "3    [1, 0, 1, 0, 0, 0, 0, 0, 0, 0, 0, 0, 0, 1, 1, ...\n",
       "4    [1, 1, 0, 0, 1, 1, 0, 0, 1, 0, 0, 0, 0, 0, 0, ...\n",
       "Name: genres_bin, dtype: object"
      ]
     },
     "execution_count": 9,
     "metadata": {},
     "output_type": "execute_result"
    }
   ],
   "source": [
    "books['genres_bin'] = books['Genres'].apply(lambda x: binary(x))\n",
    "books['genres_bin'].head()"
   ]
  },
  {
   "attachments": {},
   "cell_type": "markdown",
   "metadata": {},
   "source": [
    "With the one-hot encodings, we can now find the the cosine simialrity of any two books."
   ]
  },
  {
   "cell_type": "code",
   "execution_count": 10,
   "metadata": {},
   "outputs": [
    {
     "name": "stdout",
     "output_type": "stream",
     "text": [
      "0.8571428571428572\n",
      "Book                                               The Outsiders\n",
      "Author                                               S.E. Hinton\n",
      "Description    The Outsiders is about two weeks in the life o...\n",
      "Genres         [Classics, ComingOfAge, Fiction, ReadForSchool...\n",
      "Avg_Rating                                                  4.12\n",
      "Num_Ratings                                            1,220,608\n",
      "URL            https://www.goodreads.com/book/show/231804.The...\n",
      "genres_bin     [1, 1, 0, 0, 0, 1, 1, 0, 0, 0, 0, 0, 0, 0, 0, ...\n",
      "Name: 50, dtype: object\n",
      "Book                      The Da Vinci Code (Robert Langdon, #2)\n",
      "Author                                                 Dan Brown\n",
      "Description    ISBN 9780307277671 moved to this edition.While...\n",
      "Genres         [Adventure, Fiction, HistoricalFiction, Myster...\n",
      "Avg_Rating                                                   3.9\n",
      "Num_Ratings                                            2,249,143\n",
      "URL            https://www.goodreads.com/book/show/968.The_Da...\n",
      "genres_bin     [0, 1, 0, 1, 0, 0, 0, 0, 0, 0, 0, 0, 0, 0, 0, ...\n",
      "Name: 100, dtype: object\n"
     ]
    }
   ],
   "source": [
    "def Similarity(bookId1, bookId2):\n",
    "    a = books.iloc[bookId1]\n",
    "    b = books.iloc[bookId2]\n",
    "    \n",
    "    genresA = a['genres_bin']\n",
    "    genresB = b['genres_bin']\n",
    "    \n",
    "    genreDistance = spatial.distance.cosine(genresA, genresB)\n",
    "    return genreDistance \n",
    "\n",
    "# Test\n",
    "print(Similarity(50,100))\n",
    "print(books.iloc[50])\n",
    "print(books.iloc[100])  "
   ]
  },
  {
   "attachments": {},
   "cell_type": "markdown",
   "metadata": {},
   "source": [
    "Create a new dataframe for the genre recommender, including a column for the custom book IDs. Then use K-NN to produce 10 recommendations for each query."
   ]
  },
  {
   "cell_type": "code",
   "execution_count": 11,
   "metadata": {},
   "outputs": [
    {
     "data": {
      "text/html": [
       "<div>\n",
       "<style scoped>\n",
       "    .dataframe tbody tr th:only-of-type {\n",
       "        vertical-align: middle;\n",
       "    }\n",
       "\n",
       "    .dataframe tbody tr th {\n",
       "        vertical-align: top;\n",
       "    }\n",
       "\n",
       "    .dataframe thead th {\n",
       "        text-align: right;\n",
       "    }\n",
       "</style>\n",
       "<table border=\"1\" class=\"dataframe\">\n",
       "  <thead>\n",
       "    <tr style=\"text-align: right;\">\n",
       "      <th></th>\n",
       "      <th>Title</th>\n",
       "      <th>Genres</th>\n",
       "      <th>Avg_Rating</th>\n",
       "      <th>genres_bin</th>\n",
       "      <th>id</th>\n",
       "    </tr>\n",
       "  </thead>\n",
       "  <tbody>\n",
       "    <tr>\n",
       "      <th>0</th>\n",
       "      <td>To Kill a Mockingbird</td>\n",
       "      <td>[Classics, Fiction, Historical, HistoricalFict...</td>\n",
       "      <td>4.27</td>\n",
       "      <td>[1, 1, 1, 1, 1, 1, 1, 0, 0, 0, 0, 0, 0, 0, 0, ...</td>\n",
       "      <td>0</td>\n",
       "    </tr>\n",
       "    <tr>\n",
       "      <th>1</th>\n",
       "      <td>Harry Potter and the Philosopher’s Stone (Harr...</td>\n",
       "      <td>[Childrens, Classics, Fantasy, Fiction, Magic,...</td>\n",
       "      <td>4.47</td>\n",
       "      <td>[1, 1, 0, 0, 0, 0, 1, 1, 1, 1, 1, 0, 0, 0, 0, ...</td>\n",
       "      <td>1</td>\n",
       "    </tr>\n",
       "    <tr>\n",
       "      <th>2</th>\n",
       "      <td>Pride and Prejudice</td>\n",
       "      <td>[Audiobook, Classics, Fiction, Historical, His...</td>\n",
       "      <td>4.28</td>\n",
       "      <td>[1, 1, 1, 1, 1, 0, 0, 0, 0, 0, 0, 1, 1, 0, 0, ...</td>\n",
       "      <td>2</td>\n",
       "    </tr>\n",
       "    <tr>\n",
       "      <th>3</th>\n",
       "      <td>The Diary of a Young Girl</td>\n",
       "      <td>[Biography, Classics, Historical, History, Hol...</td>\n",
       "      <td>4.18</td>\n",
       "      <td>[1, 0, 1, 0, 0, 0, 0, 0, 0, 0, 0, 0, 0, 1, 1, ...</td>\n",
       "      <td>3</td>\n",
       "    </tr>\n",
       "    <tr>\n",
       "      <th>4</th>\n",
       "      <td>Animal Farm</td>\n",
       "      <td>[Classics, Dystopia, Fantasy, Fiction, Literat...</td>\n",
       "      <td>3.98</td>\n",
       "      <td>[1, 1, 0, 0, 1, 1, 0, 0, 1, 0, 0, 0, 0, 0, 0, ...</td>\n",
       "      <td>4</td>\n",
       "    </tr>\n",
       "  </tbody>\n",
       "</table>\n",
       "</div>"
      ],
      "text/plain": [
       "                                               Title  \\\n",
       "0                              To Kill a Mockingbird   \n",
       "1  Harry Potter and the Philosopher’s Stone (Harr...   \n",
       "2                                Pride and Prejudice   \n",
       "3                          The Diary of a Young Girl   \n",
       "4                                        Animal Farm   \n",
       "\n",
       "                                              Genres  Avg_Rating  \\\n",
       "0  [Classics, Fiction, Historical, HistoricalFict...        4.27   \n",
       "1  [Childrens, Classics, Fantasy, Fiction, Magic,...        4.47   \n",
       "2  [Audiobook, Classics, Fiction, Historical, His...        4.28   \n",
       "3  [Biography, Classics, Historical, History, Hol...        4.18   \n",
       "4  [Classics, Dystopia, Fantasy, Fiction, Literat...        3.98   \n",
       "\n",
       "                                          genres_bin  id  \n",
       "0  [1, 1, 1, 1, 1, 1, 1, 0, 0, 0, 0, 0, 0, 0, 0, ...   0  \n",
       "1  [1, 1, 0, 0, 0, 0, 1, 1, 1, 1, 1, 0, 0, 0, 0, ...   1  \n",
       "2  [1, 1, 1, 1, 1, 0, 0, 0, 0, 0, 0, 1, 1, 0, 0, ...   2  \n",
       "3  [1, 0, 1, 0, 0, 0, 0, 0, 0, 0, 0, 0, 0, 1, 1, ...   3  \n",
       "4  [1, 1, 0, 0, 1, 1, 0, 0, 1, 0, 0, 0, 0, 0, 0, ...   4  "
      ]
     },
     "execution_count": 11,
     "metadata": {},
     "output_type": "execute_result"
    }
   ],
   "source": [
    "books_id = list(range(0,books.shape[0]))\n",
    "books['id'] = books_id\n",
    "books_by_genre = books[['Book','Genres','Avg_Rating','genres_bin','id']]\n",
    "books_by_genre = books_by_genre.rename(columns={'Book': 'Title'})\n",
    "books_by_genre.head()"
   ]
  },
  {
   "cell_type": "code",
   "execution_count": 35,
   "metadata": {},
   "outputs": [],
   "source": [
    "# Use K-NN to find the 10 recommendations\n",
    "\n",
    "import operator\n",
    "\n",
    "def recommend_by_genre(name):\n",
    "    #name = input('Enter a book title: ')\n",
    "    new_book = books_by_genre[books_by_genre['Title'].str.contains(name)].iloc[0].to_frame().T\n",
    "    print('You enjoyed reading: ',new_book.Title.values[0])\n",
    "    def getNeighbors(baseBook, K):\n",
    "        distances = []\n",
    "    \n",
    "        for index, book in books_by_genre.iterrows():\n",
    "            if book['id'] != baseBook['id'].values[0]:\n",
    "                dist = Similarity(baseBook['id'].values[0], book['id'])\n",
    "                distances.append((book['id'], dist))\n",
    "    \n",
    "        distances.sort(key=operator.itemgetter(1))\n",
    "        neighbors = []\n",
    "    \n",
    "        for x in range(K):\n",
    "            neighbors.append(distances[x])\n",
    "        return neighbors\n",
    "\n",
    "    K = 10\n",
    "    avgRating = 0\n",
    "    neighbors = getNeighbors(new_book, K)\n",
    "    \n",
    "    print('\\nWhy not pick one of these for your next read: \\n')\n",
    "    for neighbor in neighbors:\n",
    "        avgRating = avgRating+books_by_genre.iloc[neighbor[0]][2]  \n",
    "        print( books_by_genre.iloc[neighbor[0]][0]+\" | Genres: \"+str(books_by_genre.iloc[neighbor[0]][1]).strip('[]').replace(' ','')+\" | Rating: \"+str(books_by_genre.iloc[neighbor[0]][2]))\n",
    "    \n",
    "    print('\\n')\n",
    "    avgRating = avgRating/K\n",
    "   "
   ]
  },
  {
   "attachments": {},
   "cell_type": "markdown",
   "metadata": {},
   "source": [
    "With the genre recommender coded, let's test it with a few sample readers of varying interests and tastes."
   ]
  },
  {
   "cell_type": "code",
   "execution_count": 36,
   "metadata": {},
   "outputs": [
    {
     "name": "stdout",
     "output_type": "stream",
     "text": [
      "You enjoyed reading:  Wuthering Heights\n",
      "\n",
      "Why not pick one of these for your next read: \n",
      "\n",
      "Northanger Abbey | Genres: '19thCentury','Classics','Fiction','Gothic','HistoricalFiction','Literature','Romance' | Rating: 3.84\n",
      "Jane Eyre | Genres: 'Classics','Fiction','Gothic','Historical','HistoricalFiction','Literature','Romance' | Rating: 4.14\n",
      "Tess of the D'Urbervilles | Genres: '19thCentury','Classics','Fiction','HistoricalFiction','Literature','Romance','Victorian' | Rating: 3.82\n",
      "Mansfield Park | Genres: '19thCentury','Classics','Fiction','Historical','HistoricalFiction','Literature','Romance' | Rating: 3.86\n",
      "Far From the Madding Crowd | Genres: '19thCentury','Classics','Fiction','HistoricalFiction','Literature','Romance','Victorian' | Rating: 3.96\n",
      "Vanity Fair | Genres: '19thCentury','BritishLiterature','Classics','Fiction','HistoricalFiction','Literature','Romance' | Rating: 3.8\n",
      "The Tenant of Wildfell Hall | Genres: '19thCentury','Classics','Fiction','Gothic','HistoricalFiction','Romance','Victorian' | Rating: 4.0\n",
      "The Portrait of a Lady | Genres: '19thCentury','Classics','Fiction','HistoricalFiction','Literature','Novels','Romance' | Rating: 3.79\n",
      "Wives and Daughters | Genres: '19thCentury','Classics','Fiction','HistoricalFiction','Literature','Romance','Victorian' | Rating: 4.12\n",
      "Villette | Genres: '19thCentury','Classics','Fiction','Gothic','Literature','Romance','Victorian' | Rating: 3.77\n",
      "\n",
      "\n"
     ]
    }
   ],
   "source": [
    "# Example reader 1: \n",
    "# This reader is interested in gothic romantic novels\n",
    "\n",
    "recommend_by_genre('Wuthering Heights')"
   ]
  },
  {
   "cell_type": "code",
   "execution_count": 23,
   "metadata": {},
   "outputs": [
    {
     "name": "stdout",
     "output_type": "stream",
     "text": [
      "You enjoyed reading:  The Lord of the Rings\n",
      "\n",
      "Why not pick one of these for your next read: \n",
      "\n",
      "The Fellowship of the Ring (The Lord of the Rings, #1) | Genres: 'Adventure','Classics','EpicFantasy','Fantasy','Fiction','HighFantasy','ScienceFictionFantasy' | Rating: 4.38\n",
      "The Return of the King (The Lord of the Rings, #3) | Genres: 'Adventure','Classics','EpicFantasy','Fantasy','Fiction','HighFantasy','ScienceFictionFantasy' | Rating: 4.56\n",
      "The Two Towers (The Lord of the Rings, #2) | Genres: 'Adventure','Classics','EpicFantasy','Fantasy','Fiction','HighFantasy','ScienceFictionFantasy' | Rating: 4.47\n",
      "J.R.R. Tolkien 4-Book Boxed Set: The Hobbit and The Lord of the Rings | Genres: 'Adventure','Classics','EpicFantasy','Fantasy','Fiction','HighFantasy','ScienceFictionFantasy' | Rating: 4.61\n",
      "The Children of Húrin | Genres: 'Adventure','Classics','EpicFantasy','Fantasy','Fiction','HighFantasy','ScienceFictionFantasy' | Rating: 4.01\n",
      "The Hobbit (The Lord of the Rings, #0) | Genres: 'Adventure','Classics','Fantasy','Fiction','HighFantasy','ScienceFictionFantasy','YoungAdult' | Rating: 4.28\n",
      "A Game of Thrones (A Song of Ice and Fire, #1) | Genres: 'Adult','Adventure','EpicFantasy','Fantasy','Fiction','HighFantasy','ScienceFictionFantasy' | Rating: 4.44\n",
      "A Clash of Kings  (A Song of Ice and Fire, #2) | Genres: 'Adult','Adventure','EpicFantasy','Fantasy','Fiction','HighFantasy','ScienceFictionFantasy' | Rating: 4.41\n",
      "The Eye of the World (The Wheel of Time, #1) | Genres: 'Adventure','Audiobook','EpicFantasy','Fantasy','Fiction','HighFantasy','ScienceFictionFantasy' | Rating: 4.19\n",
      "The Silmarillion | Genres: 'Classics','EpicFantasy','Fantasy','Fiction','HighFantasy','Mythology','ScienceFictionFantasy' | Rating: 3.99\n",
      "\n",
      "\n"
     ]
    }
   ],
   "source": [
    "# Example reader 2: \n",
    "# This reader is a big fantasy fan\n",
    "\n",
    "recommend_by_genre('The Lord of the Rings')"
   ]
  },
  {
   "attachments": {},
   "cell_type": "markdown",
   "metadata": {},
   "source": [
    "The recommender can also distinguish books of the same genre but with different tones."
   ]
  },
  {
   "cell_type": "code",
   "execution_count": 25,
   "metadata": {},
   "outputs": [
    {
     "name": "stdout",
     "output_type": "stream",
     "text": [
      "You enjoyed reading:  Dune (Dune, #1)\n",
      "\n",
      "Why not pick one of these for your next read: \n",
      "\n",
      "Ringworld (Ringworld, #1) | Genres: 'Audiobook','Classics','Fantasy','Fiction','ScienceFiction','ScienceFictionFantasy','SpaceOpera' | Rating: 3.95\n",
      "Dune Messiah (Dune, #2) | Genres: 'Audiobook','Classics','Fantasy','Fiction','ScienceFiction','ScienceFictionFantasy','SpaceOpera' | Rating: 3.89\n",
      "Heretics of Dune (Dune, #5) | Genres: 'Audiobook','Classics','Fantasy','Fiction','ScienceFiction','ScienceFictionFantasy','SpaceOpera' | Rating: 3.87\n",
      "God Emperor of Dune (Dune, #4) | Genres: 'Audiobook','Classics','Fantasy','Fiction','ScienceFiction','ScienceFictionFantasy','SpaceOpera' | Rating: 3.87\n",
      "The Foundation Trilogy (Foundation, #1-3) | Genres: 'Classics','Fantasy','Fiction','Literature','ScienceFiction','ScienceFictionFantasy','SpaceOpera' | Rating: 4.41\n",
      "The Martian Chronicles | Genres: 'Audiobook','Classics','Fantasy','Fiction','ScienceFiction','ScienceFictionFantasy','ShortStories' | Rating: 4.15\n",
      "Foundation (Foundation, #1) | Genres: 'Classics','Fantasy','Fiction','Novels','ScienceFiction','ScienceFictionFantasy','SpaceOpera' | Rating: 4.17\n",
      "Hyperion (Hyperion Cantos, #1) | Genres: 'Audiobook','Fantasy','Fiction','ScienceFiction','ScienceFictionFantasy','SpaceOpera','TimeTravel' | Rating: 4.25\n",
      "The Moon Is a Harsh Mistress | Genres: 'Audiobook','Classics','Fantasy','Fiction','Politics','ScienceFiction','ScienceFictionFantasy' | Rating: 4.16\n",
      "The Mote in God's Eye (Moties, #1) | Genres: 'Aliens','Audiobook','Fantasy','Fiction','ScienceFiction','ScienceFictionFantasy','SpaceOpera' | Rating: 4.07\n",
      "\n",
      "\n"
     ]
    }
   ],
   "source": [
    "# Example reader 3:\n",
    "# This reader loves science fiction stories that are quite dark\n",
    "\n",
    "recommend_by_genre(\"Dune\") # Regex will not work with this recommender"
   ]
  },
  {
   "cell_type": "code",
   "execution_count": 26,
   "metadata": {},
   "outputs": [
    {
     "name": "stdout",
     "output_type": "stream",
     "text": [
      "You enjoyed reading:  The Hitchhiker's Guide to the Galaxy (The Hitchhiker's Guide to the Galaxy, #1)\n",
      "\n",
      "Why not pick one of these for your next read: \n",
      "\n",
      "The Ultimate Hitchhiker's Guide to the Galaxy (Hitchhiker's Guide to the Galaxy, #1-5) | Genres: 'Classics','Comedy','Fantasy','Fiction','Humor','ScienceFiction','ScienceFictionFantasy' | Rating: 4.38\n",
      "Life, the Universe and Everything (The Hitchhiker's Guide to the Galaxy, #3) | Genres: 'Classics','Comedy','Fantasy','Fiction','Humor','ScienceFiction','ScienceFictionFantasy' | Rating: 4.18\n",
      "The Hitchhiker's Guide to the Galaxy: A Trilogy in Four Parts | Genres: 'Classics','Comedy','Fantasy','Fiction','Humor','ScienceFiction','ScienceFictionFantasy' | Rating: 4.5\n",
      "Mostly Harmless (Hitchhiker's Guide to the Galaxy, #5) | Genres: 'Classics','Comedy','Fantasy','Fiction','Humor','ScienceFiction','ScienceFictionFantasy' | Rating: 3.97\n",
      "The Restaurant at the End of the Universe (Hitchhiker's Guide to the Galaxy, #2) | Genres: 'Classics','Comedy','Fantasy','Fiction','Humor','ScienceFiction','ScienceFictionFantasy' | Rating: 4.21\n",
      "So Long, and Thanks for All the Fish (Hitchhiker's Guide to the Galaxy, #4) | Genres: 'Classics','Comedy','Fantasy','Fiction','Humor','ScienceFiction','ScienceFictionFantasy' | Rating: 4.09\n",
      "The Color of Magic (Discworld, #1; Rincewind, #1) | Genres: 'Comedy','Fantasy','Fiction','Humor','Magic','ScienceFiction','ScienceFictionFantasy' | Rating: 4.0\n",
      "Dirk Gently's Holistic Detective Agency (Dirk Gently, #1) | Genres: 'Comedy','Fantasy','Fiction','Humor','Mystery','ScienceFiction','ScienceFictionFantasy' | Rating: 3.97\n",
      "The Long Dark Tea-Time of the Soul (Dirk Gently, #2) | Genres: 'Comedy','Fantasy','Fiction','Humor','Mystery','ScienceFiction','ScienceFictionFantasy' | Rating: 4.04\n",
      "The More Than Complete Hitchhiker's Guide | Genres: 'Comedy','Fantasy','Fiction','Humor','ScienceFiction','ScienceFictionFantasy','Space' | Rating: 4.58\n",
      "\n",
      "\n"
     ]
    }
   ],
   "source": [
    "# Example reader 4:\n",
    "# This reader loves science fiction stories but also funny stories\n",
    "\n",
    "recommend_by_genre(\"The Hitchhiker's Guide to the Galaxy\")"
   ]
  },
  {
   "attachments": {},
   "cell_type": "markdown",
   "metadata": {},
   "source": [
    "This recommender can also work for those with limited interest or on behalf of someone else."
   ]
  },
  {
   "cell_type": "code",
   "execution_count": 27,
   "metadata": {},
   "outputs": [
    {
     "name": "stdout",
     "output_type": "stream",
     "text": [
      "You enjoyed reading:  The Holy Bible: King James Version\n",
      "\n",
      "Why not pick one of these for your next read: \n",
      "\n",
      "The Holy Bible | Genres: 'Christian','Christianity','Classics','History','Nonfiction','Philosophy','Religion' | Rating: 4.43\n",
      "Mere Christianity | Genres: 'Christian','Christianity','Classics','Nonfiction','Philosophy','Religion','Theology' | Rating: 4.35\n",
      "City of God | Genres: 'Christianity','Classics','History','Nonfiction','Philosophy','Religion','Theology' | Rating: 3.92\n",
      "Orthodoxy | Genres: 'Christian','Christianity','Classics','Nonfiction','Philosophy','Religion','Theology' | Rating: 4.17\n",
      "Martin Luther's Ninety-Five Theses | Genres: 'Christian','Classics','History','Nonfiction','Philosophy','Religion','Theology' | Rating: 3.88\n",
      "The Everlasting Man | Genres: 'Christian','Christianity','Classics','Nonfiction','Philosophy','Religion','Theology' | Rating: 4.14\n",
      "The New Testament | Genres: 'Christian','Christianity','Classics','Nonfiction','Philosophy','Religion','Spirituality' | Rating: 4.29\n",
      "Foxe's Book of Martyrs | Genres: 'Biography','Christian','Christianity','Classics','History','Nonfiction','Religion' | Rating: 4.25\n",
      "Doubting Jesus' Resurrection: What Happened in the Black Box? | Genres: 'Christianity','History','Nonfiction','Philosophy','Religion','Spirituality' | Rating: 4.04\n",
      "Holy Bible: New International Version | Genres: 'Christian','Christianity','Classics','Nonfiction','Reference','Religion','Spirituality' | Rating: 4.61\n",
      "\n",
      "\n"
     ]
    }
   ],
   "source": [
    "# Example reader 5:\n",
    "# The reader only bought the Bible\n",
    "\n",
    "recommend_by_genre(\"The Holy Bible: King James Version\")"
   ]
  },
  {
   "cell_type": "code",
   "execution_count": 28,
   "metadata": {},
   "outputs": [
    {
     "name": "stdout",
     "output_type": "stream",
     "text": [
      "You enjoyed reading:  Matilda\n",
      "\n",
      "Why not pick one of these for your next read: \n",
      "\n",
      "Charlie and the Chocolate Factory (Charlie Bucket, #1) | Genres: 'Childrens','Classics','Fantasy','Fiction','Humor','MiddleGrade','YoungAdult' | Rating: 4.15\n",
      "Pippi Longstocking (Pippi Långstrump, #1) | Genres: 'Childrens','Classics','Fantasy','Fiction','Humor','MiddleGrade','YoungAdult' | Rating: 4.15\n",
      "The BFG | Genres: 'Childrens','Classics','Fantasy','Fiction','Humor','MiddleGrade','YoungAdult' | Rating: 4.22\n",
      "The Twits | Genres: 'Childrens','Classics','Fantasy','Fiction','Humor','MiddleGrade','YoungAdult' | Rating: 3.97\n",
      "George's Marvellous Medicine | Genres: 'Childrens','Classics','Fantasy','Fiction','Humor','MiddleGrade','YoungAdult' | Rating: 4.03\n",
      "Esio Trot | Genres: 'Childrens','Classics','Fantasy','Fiction','Humor','MiddleGrade','YoungAdult' | Rating: 3.74\n",
      "Harry Potter and the Philosopher’s Stone (Harry Potter, #1) | Genres: 'Childrens','Classics','Fantasy','Fiction','Magic','MiddleGrade','YoungAdult' | Rating: 4.47\n",
      "Charlotte's Web | Genres: 'Animals','Childrens','Classics','Fantasy','Fiction','MiddleGrade','YoungAdult' | Rating: 4.19\n",
      "The Secret Garden | Genres: 'Childrens','Classics','Fantasy','Fiction','HistoricalFiction','MiddleGrade','YoungAdult' | Rating: 4.15\n",
      "The Lion, the Witch and the Wardrobe (Chronicles of Narnia, #1) | Genres: 'Adventure','Childrens','Classics','Fantasy','Fiction','MiddleGrade','YoungAdult' | Rating: 4.23\n",
      "\n",
      "\n"
     ]
    }
   ],
   "source": [
    "# Example reader 5:\n",
    "# This person's not much of a reader but bought books for her little nephew\n",
    "recommend_by_genre(\"Matilda\")"
   ]
  },
  {
   "attachments": {},
   "cell_type": "markdown",
   "metadata": {},
   "source": [
    "From our test readers' results, the genre recommender seems to work very well, although I did notice that some recommendations were very biased towards a  series or author depending on the input book. Although, books in the same series or books written by the same author would be very similar (so I would expect the same sort of results if we put a Hunger Games book or Harry Potter book in the system).\n",
    "\n",
    "We can build another recommendation system that involves more information, such as book synopsis."
   ]
  },
  {
   "attachments": {},
   "cell_type": "markdown",
   "metadata": {},
   "source": [
    "### *Content-Based Filtering Recommender: By Synopsis*\n",
    "\n",
    "As I used a seperate dataframe for the Genre Recommender, there would be no need to reload the dataset.\n",
    "\n",
    "As we are now dealing with full blocks of text and not categorial data, we will need to use natural language processing like a TF-IDF vectoriser to deal with the book synopses."
   ]
  },
  {
   "cell_type": "code",
   "execution_count": 29,
   "metadata": {},
   "outputs": [
    {
     "data": {
      "text/html": [
       "<div>\n",
       "<style scoped>\n",
       "    .dataframe tbody tr th:only-of-type {\n",
       "        vertical-align: middle;\n",
       "    }\n",
       "\n",
       "    .dataframe tbody tr th {\n",
       "        vertical-align: top;\n",
       "    }\n",
       "\n",
       "    .dataframe thead th {\n",
       "        text-align: right;\n",
       "    }\n",
       "</style>\n",
       "<table border=\"1\" class=\"dataframe\">\n",
       "  <thead>\n",
       "    <tr style=\"text-align: right;\">\n",
       "      <th></th>\n",
       "      <th>Book</th>\n",
       "      <th>Author</th>\n",
       "      <th>Description</th>\n",
       "      <th>Genres</th>\n",
       "      <th>Avg_Rating</th>\n",
       "      <th>Num_Ratings</th>\n",
       "      <th>URL</th>\n",
       "      <th>genres_bin</th>\n",
       "      <th>id</th>\n",
       "    </tr>\n",
       "  </thead>\n",
       "  <tbody>\n",
       "    <tr>\n",
       "      <th>0</th>\n",
       "      <td>To Kill a Mockingbird</td>\n",
       "      <td>Harper Lee</td>\n",
       "      <td>The unforgettable novel of a childhood in a sl...</td>\n",
       "      <td>[Classics, Fiction, Historical, HistoricalFict...</td>\n",
       "      <td>4.27</td>\n",
       "      <td>5,691,311</td>\n",
       "      <td>https://www.goodreads.com/book/show/2657.To_Ki...</td>\n",
       "      <td>[1, 1, 1, 1, 1, 1, 1, 0, 0, 0, 0, 0, 0, 0, 0, ...</td>\n",
       "      <td>0</td>\n",
       "    </tr>\n",
       "    <tr>\n",
       "      <th>1</th>\n",
       "      <td>Harry Potter and the Philosopher’s Stone (Harr...</td>\n",
       "      <td>J.K. Rowling</td>\n",
       "      <td>Harry Potter thinks he is an ordinary boy - un...</td>\n",
       "      <td>[Childrens, Classics, Fantasy, Fiction, Magic,...</td>\n",
       "      <td>4.47</td>\n",
       "      <td>9,278,135</td>\n",
       "      <td>https://www.goodreads.com/book/show/72193.Harr...</td>\n",
       "      <td>[1, 1, 0, 0, 0, 0, 1, 1, 1, 1, 1, 0, 0, 0, 0, ...</td>\n",
       "      <td>1</td>\n",
       "    </tr>\n",
       "    <tr>\n",
       "      <th>2</th>\n",
       "      <td>Pride and Prejudice</td>\n",
       "      <td>Jane Austen</td>\n",
       "      <td>Since its immediate success in 1813, Pride and...</td>\n",
       "      <td>[Audiobook, Classics, Fiction, Historical, His...</td>\n",
       "      <td>4.28</td>\n",
       "      <td>3,944,155</td>\n",
       "      <td>https://www.goodreads.com/book/show/1885.Pride...</td>\n",
       "      <td>[1, 1, 1, 1, 1, 0, 0, 0, 0, 0, 0, 1, 1, 0, 0, ...</td>\n",
       "      <td>2</td>\n",
       "    </tr>\n",
       "    <tr>\n",
       "      <th>3</th>\n",
       "      <td>The Diary of a Young Girl</td>\n",
       "      <td>Anne Frank</td>\n",
       "      <td>Discovered in the attic in which she spent the...</td>\n",
       "      <td>[Biography, Classics, Historical, History, Hol...</td>\n",
       "      <td>4.18</td>\n",
       "      <td>3,488,438</td>\n",
       "      <td>https://www.goodreads.com/book/show/48855.The_...</td>\n",
       "      <td>[1, 0, 1, 0, 0, 0, 0, 0, 0, 0, 0, 0, 0, 1, 1, ...</td>\n",
       "      <td>3</td>\n",
       "    </tr>\n",
       "    <tr>\n",
       "      <th>4</th>\n",
       "      <td>Animal Farm</td>\n",
       "      <td>George Orwell</td>\n",
       "      <td>Librarian's note: There is an Alternate Cover ...</td>\n",
       "      <td>[Classics, Dystopia, Fantasy, Fiction, Literat...</td>\n",
       "      <td>3.98</td>\n",
       "      <td>3,575,172</td>\n",
       "      <td>https://www.goodreads.com/book/show/170448.Ani...</td>\n",
       "      <td>[1, 1, 0, 0, 1, 1, 0, 0, 1, 0, 0, 0, 0, 0, 0, ...</td>\n",
       "      <td>4</td>\n",
       "    </tr>\n",
       "  </tbody>\n",
       "</table>\n",
       "</div>"
      ],
      "text/plain": [
       "                                                Book         Author  \\\n",
       "0                              To Kill a Mockingbird     Harper Lee   \n",
       "1  Harry Potter and the Philosopher’s Stone (Harr...   J.K. Rowling   \n",
       "2                                Pride and Prejudice    Jane Austen   \n",
       "3                          The Diary of a Young Girl     Anne Frank   \n",
       "4                                        Animal Farm  George Orwell   \n",
       "\n",
       "                                         Description  \\\n",
       "0  The unforgettable novel of a childhood in a sl...   \n",
       "1  Harry Potter thinks he is an ordinary boy - un...   \n",
       "2  Since its immediate success in 1813, Pride and...   \n",
       "3  Discovered in the attic in which she spent the...   \n",
       "4  Librarian's note: There is an Alternate Cover ...   \n",
       "\n",
       "                                              Genres  Avg_Rating Num_Ratings  \\\n",
       "0  [Classics, Fiction, Historical, HistoricalFict...        4.27   5,691,311   \n",
       "1  [Childrens, Classics, Fantasy, Fiction, Magic,...        4.47   9,278,135   \n",
       "2  [Audiobook, Classics, Fiction, Historical, His...        4.28   3,944,155   \n",
       "3  [Biography, Classics, Historical, History, Hol...        4.18   3,488,438   \n",
       "4  [Classics, Dystopia, Fantasy, Fiction, Literat...        3.98   3,575,172   \n",
       "\n",
       "                                                 URL  \\\n",
       "0  https://www.goodreads.com/book/show/2657.To_Ki...   \n",
       "1  https://www.goodreads.com/book/show/72193.Harr...   \n",
       "2  https://www.goodreads.com/book/show/1885.Pride...   \n",
       "3  https://www.goodreads.com/book/show/48855.The_...   \n",
       "4  https://www.goodreads.com/book/show/170448.Ani...   \n",
       "\n",
       "                                          genres_bin  id  \n",
       "0  [1, 1, 1, 1, 1, 1, 1, 0, 0, 0, 0, 0, 0, 0, 0, ...   0  \n",
       "1  [1, 1, 0, 0, 0, 0, 1, 1, 1, 1, 1, 0, 0, 0, 0, ...   1  \n",
       "2  [1, 1, 1, 1, 1, 0, 0, 0, 0, 0, 0, 1, 1, 0, 0, ...   2  \n",
       "3  [1, 0, 1, 0, 0, 0, 0, 0, 0, 0, 0, 0, 0, 1, 1, ...   3  \n",
       "4  [1, 1, 0, 0, 1, 1, 0, 0, 1, 0, 0, 0, 0, 0, 0, ...   4  "
      ]
     },
     "execution_count": 29,
     "metadata": {},
     "output_type": "execute_result"
    }
   ],
   "source": [
    "books.head()"
   ]
  },
  {
   "cell_type": "code",
   "execution_count": 31,
   "metadata": {},
   "outputs": [
    {
     "data": {
      "text/plain": [
       "(9923, 70064)"
      ]
     },
     "execution_count": 31,
     "metadata": {},
     "output_type": "execute_result"
    }
   ],
   "source": [
    "# Define a TF-IDF Vectorizer Object \n",
    "# We will also remove all english stop words\n",
    "tfidf = TfidfVectorizer(stop_words='english')\n",
    "\n",
    "# Construct the required TF-IDF matrix \n",
    "# by fitting and transforming the data\n",
    "tfidf_matrix = tfidf.fit_transform(books['Description'])\n",
    "\n",
    "#Output the shape of tfidf_matrix\n",
    "tfidf_matrix.shape"
   ]
  },
  {
   "attachments": {},
   "cell_type": "markdown",
   "metadata": {},
   "source": [
    "While the Genre Recommender was built using K-Nearest Neighbour, we will use cosine similarity as the backbone of our Plot Recommender."
   ]
  },
  {
   "cell_type": "code",
   "execution_count": 33,
   "metadata": {},
   "outputs": [],
   "source": [
    "# Compute the cosine similarity matrix\n",
    "cosine_sim = cosine_similarity(tfidf_matrix, tfidf_matrix)"
   ]
  },
  {
   "cell_type": "code",
   "execution_count": 34,
   "metadata": {},
   "outputs": [],
   "source": [
    "#Construct a reverse map of indices and book titles\n",
    "indices = pd.Series(books.index, index=books['Book']).drop_duplicates()"
   ]
  },
  {
   "attachments": {},
   "cell_type": "markdown",
   "metadata": {},
   "source": [
    "Now we can build the Plot Recommender. "
   ]
  },
  {
   "cell_type": "code",
   "execution_count": 39,
   "metadata": {},
   "outputs": [],
   "source": [
    "# Function that takes in book title as input and outputs most similar books\n",
    "def recommend_by_plot(title, cosine_sim=cosine_sim):\n",
    "\n",
    "    print('You enjoyed reading: ',title)\n",
    "\n",
    "    # Get the index of the book that matches the title\n",
    "    idx = indices[title]\n",
    "\n",
    "    # Get the pairwsie similarity scores of all books with the input book\n",
    "    sim_scores = list(enumerate(cosine_sim[idx]))\n",
    "\n",
    "    # Sort the books by the similarity scores\n",
    "    sim_scores = sorted(sim_scores, key=lambda x: x[1], reverse=True)\n",
    "\n",
    "    # Get the scores of the 10 most similar books\n",
    "    sim_scores = sim_scores[1:11]\n",
    "\n",
    "    # Get the book indices\n",
    "    book_indices = [i[0] for i in sim_scores]\n",
    "\n",
    "    print('\\nWhy not pick one of these for your next read: \\n')\n",
    "\n",
    "    # Return the top 10 most similar movies\n",
    "    return books['Book'].iloc[book_indices]"
   ]
  },
  {
   "attachments": {},
   "cell_type": "markdown",
   "metadata": {},
   "source": [
    "As before, we will use test readers to see if the recommender works."
   ]
  },
  {
   "cell_type": "code",
   "execution_count": 40,
   "metadata": {},
   "outputs": [
    {
     "name": "stdout",
     "output_type": "stream",
     "text": [
      "You enjoyed reading:  The Princess Bride\n",
      "\n",
      "Why not pick one of these for your next read: \n",
      "\n"
     ]
    },
    {
     "data": {
      "text/plain": [
       "2009    A Dad After God's Own Heart: Becoming the Fath...\n",
       "696                                    Rich Dad, Poor Dad\n",
       "3090    As You Wish: Inconceivable Tales from the Maki...\n",
       "5856                                       Living My Life\n",
       "2899                            The Present (VanWest, #2)\n",
       "7268                        Bad : Six Sexy Gents Unmasked\n",
       "8493                                   The Lion in Winter\n",
       "135     The Return of the King (The Lord of the Rings,...\n",
       "5034                      Danny the Champion of the World\n",
       "8309    The School for Good and Evil (The School for G...\n",
       "Name: Book, dtype: object"
      ]
     },
     "execution_count": 40,
     "metadata": {},
     "output_type": "execute_result"
    }
   ],
   "source": [
    "# Test Reader 1\n",
    "\n",
    "recommend_by_plot('The Princess Bride')"
   ]
  },
  {
   "cell_type": "code",
   "execution_count": 41,
   "metadata": {},
   "outputs": [
    {
     "name": "stdout",
     "output_type": "stream",
     "text": [
      "You enjoyed reading:  The Perks of Being a Wallflower\n",
      "\n",
      "Why not pick one of these for your next read: \n",
      "\n"
     ]
    },
    {
     "data": {
      "text/plain": [
       "3992                                         Jasper Jones\n",
       "1969                      Anansi Boys (American Gods, #2)\n",
       "5093                                    As the Crow Flies\n",
       "9567    Tales from a Not-So-Fabulous Life (Dork Diarie...\n",
       "3368                        A Dirty Job (Grim Reaper, #1)\n",
       "7061                 Stalk Me (The Keatyn Chronicles, #1)\n",
       "6249                                            Solitaire\n",
       "66                                   Flowers for Algernon\n",
       "4476    Charlie and the Great Glass Elevator (Charlie ...\n",
       "4810                                           Dyed Souls\n",
       "Name: Book, dtype: object"
      ]
     },
     "execution_count": 41,
     "metadata": {},
     "output_type": "execute_result"
    }
   ],
   "source": [
    "# Test Reader 2\n",
    "\n",
    "recommend_by_plot('The Perks of Being a Wallflower')"
   ]
  },
  {
   "cell_type": "code",
   "execution_count": 42,
   "metadata": {},
   "outputs": [
    {
     "name": "stdout",
     "output_type": "stream",
     "text": [
      "You enjoyed reading:  Alice's Adventures in Wonderland / Through the Looking-Glass\n",
      "\n",
      "Why not pick one of these for your next read: \n",
      "\n"
     ]
    },
    {
     "data": {
      "text/plain": [
       "7499                                     Living Dead Girl\n",
       "8096                  The Hazel Wood (The Hazel Wood, #1)\n",
       "8789                           The Other Side of the Fire\n",
       "132                                   Alice in Wonderland\n",
       "3025                                    The First Mistake\n",
       "3115                                    What Alice Forgot\n",
       "8070                          Splintered (Splintered, #1)\n",
       "8864                                        Without Alice\n",
       "1797    Alice's Adventures in Wonderland (Alice's Adve...\n",
       "415                                           Still Alice\n",
       "Name: Book, dtype: object"
      ]
     },
     "execution_count": 42,
     "metadata": {},
     "output_type": "execute_result"
    }
   ],
   "source": [
    "#Test Reader 3\n",
    "\n",
    "recommend_by_plot(\"Alice's Adventures in Wonderland / Through the Looking-Glass\")"
   ]
  },
  {
   "cell_type": "code",
   "execution_count": 44,
   "metadata": {},
   "outputs": [
    {
     "name": "stdout",
     "output_type": "stream",
     "text": [
      "You enjoyed reading:  The Great Gatsby\n",
      "\n",
      "Why not pick one of these for your next read: \n",
      "\n"
     ]
    },
    {
     "data": {
      "text/plain": [
       "6160                          The Beginning of Everything\n",
       "3380                                This Side of Paradise\n",
       "9497                                  Powers of Influence\n",
       "2172                                    The Speed of Life\n",
       "2204    The Great Book of Amber (The Chronicles of Amb...\n",
       "4151                             The Beautiful and Damned\n",
       "5260                  The Curious Case of Benjamin Button\n",
       "1739                  The Dark Tower (The Dark Tower, #7)\n",
       "1045                   Kerri's War (The King Trilogy, #3)\n",
       "6764                                      Gone (Wake, #3)\n",
       "Name: Book, dtype: object"
      ]
     },
     "execution_count": 44,
     "metadata": {},
     "output_type": "execute_result"
    }
   ],
   "source": [
    "# Test reader 4\n",
    "\n",
    "recommend_by_plot('The Great Gatsby')"
   ]
  },
  {
   "cell_type": "code",
   "execution_count": 47,
   "metadata": {},
   "outputs": [
    {
     "name": "stdout",
     "output_type": "stream",
     "text": [
      "You enjoyed reading:  American Psycho\n",
      "\n",
      "Why not pick one of these for your next read: \n",
      "\n"
     ]
    },
    {
     "data": {
      "text/plain": [
       "5868                                        Murphy's Path\n",
       "7335    Makers and Takers: The Rise of Finance and the...\n",
       "750                                           Bleak House\n",
       "4279                                Dogshit Saved My Life\n",
       "8596                        Sacred (Kenzie & Gennaro, #3)\n",
       "7287                   The American Dream & The Zoo Story\n",
       "8152    Psycho-Cybernetics, A New Way to Get More Livi...\n",
       "2770                                            Black Boy\n",
       "1311                 Slave to the Dream: Everyone’s Dream\n",
       "1972                     Flash Boys: A Wall Street Revolt\n",
       "Name: Book, dtype: object"
      ]
     },
     "execution_count": 47,
     "metadata": {},
     "output_type": "execute_result"
    }
   ],
   "source": [
    "# Test reader 5\n",
    "\n",
    "recommend_by_plot('American Psycho')"
   ]
  },
  {
   "attachments": {},
   "cell_type": "markdown",
   "metadata": {},
   "source": [
    "From the results, the Plot Recommender seems to give us more diverse recommendations - very good for those wanting to read something new but may not be the best for those who like particular books."
   ]
  },
  {
   "attachments": {},
   "cell_type": "markdown",
   "metadata": {},
   "source": [
    "### *Content-Based Filtering Recommender: By Rating*\n",
    "\n",
    "The two recommendation systemsboth rely on the user putting in a book that they like/ have read but what if they want to find books from authors that are similar to their favourite author? We can build a system that brings up authors (along with a book they have written).\n",
    "\n",
    "To do this successfully, it will be best to build the recommendation system that works by author __and__ genre (some authors are known for writing bookd of certain authors; some authors write in multiple genres).\n",
    "\n",
    "For ease of the code operating, the system will still require a book title as the input."
   ]
  },
  {
   "cell_type": "code",
   "execution_count": 48,
   "metadata": {},
   "outputs": [
    {
     "data": {
      "text/html": [
       "<div>\n",
       "<style scoped>\n",
       "    .dataframe tbody tr th:only-of-type {\n",
       "        vertical-align: middle;\n",
       "    }\n",
       "\n",
       "    .dataframe tbody tr th {\n",
       "        vertical-align: top;\n",
       "    }\n",
       "\n",
       "    .dataframe thead th {\n",
       "        text-align: right;\n",
       "    }\n",
       "</style>\n",
       "<table border=\"1\" class=\"dataframe\">\n",
       "  <thead>\n",
       "    <tr style=\"text-align: right;\">\n",
       "      <th></th>\n",
       "      <th>Title</th>\n",
       "      <th>Genres</th>\n",
       "      <th>Avg_Rating</th>\n",
       "      <th>genres_bin</th>\n",
       "      <th>id</th>\n",
       "      <th>author</th>\n",
       "    </tr>\n",
       "  </thead>\n",
       "  <tbody>\n",
       "    <tr>\n",
       "      <th>0</th>\n",
       "      <td>To Kill a Mockingbird</td>\n",
       "      <td>[Classics, Fiction, Historical, HistoricalFict...</td>\n",
       "      <td>4.27</td>\n",
       "      <td>[1, 1, 1, 1, 1, 1, 1, 0, 0, 0, 0, 0, 0, 0, 0, ...</td>\n",
       "      <td>0</td>\n",
       "      <td>Harper Lee</td>\n",
       "    </tr>\n",
       "    <tr>\n",
       "      <th>1</th>\n",
       "      <td>Harry Potter and the Philosopher’s Stone (Harr...</td>\n",
       "      <td>[Childrens, Classics, Fantasy, Fiction, Magic,...</td>\n",
       "      <td>4.47</td>\n",
       "      <td>[1, 1, 0, 0, 0, 0, 1, 1, 1, 1, 1, 0, 0, 0, 0, ...</td>\n",
       "      <td>1</td>\n",
       "      <td>J.K. Rowling</td>\n",
       "    </tr>\n",
       "    <tr>\n",
       "      <th>2</th>\n",
       "      <td>Pride and Prejudice</td>\n",
       "      <td>[Audiobook, Classics, Fiction, Historical, His...</td>\n",
       "      <td>4.28</td>\n",
       "      <td>[1, 1, 1, 1, 1, 0, 0, 0, 0, 0, 0, 1, 1, 0, 0, ...</td>\n",
       "      <td>2</td>\n",
       "      <td>Jane Austen</td>\n",
       "    </tr>\n",
       "    <tr>\n",
       "      <th>3</th>\n",
       "      <td>The Diary of a Young Girl</td>\n",
       "      <td>[Biography, Classics, Historical, History, Hol...</td>\n",
       "      <td>4.18</td>\n",
       "      <td>[1, 0, 1, 0, 0, 0, 0, 0, 0, 0, 0, 0, 0, 1, 1, ...</td>\n",
       "      <td>3</td>\n",
       "      <td>Anne Frank</td>\n",
       "    </tr>\n",
       "    <tr>\n",
       "      <th>4</th>\n",
       "      <td>Animal Farm</td>\n",
       "      <td>[Classics, Dystopia, Fantasy, Fiction, Literat...</td>\n",
       "      <td>3.98</td>\n",
       "      <td>[1, 1, 0, 0, 1, 1, 0, 0, 1, 0, 0, 0, 0, 0, 0, ...</td>\n",
       "      <td>4</td>\n",
       "      <td>George Orwell</td>\n",
       "    </tr>\n",
       "  </tbody>\n",
       "</table>\n",
       "</div>"
      ],
      "text/plain": [
       "                                               Title  \\\n",
       "0                              To Kill a Mockingbird   \n",
       "1  Harry Potter and the Philosopher’s Stone (Harr...   \n",
       "2                                Pride and Prejudice   \n",
       "3                          The Diary of a Young Girl   \n",
       "4                                        Animal Farm   \n",
       "\n",
       "                                              Genres  Avg_Rating  \\\n",
       "0  [Classics, Fiction, Historical, HistoricalFict...        4.27   \n",
       "1  [Childrens, Classics, Fantasy, Fiction, Magic,...        4.47   \n",
       "2  [Audiobook, Classics, Fiction, Historical, His...        4.28   \n",
       "3  [Biography, Classics, Historical, History, Hol...        4.18   \n",
       "4  [Classics, Dystopia, Fantasy, Fiction, Literat...        3.98   \n",
       "\n",
       "                                          genres_bin  id         author  \n",
       "0  [1, 1, 1, 1, 1, 1, 1, 0, 0, 0, 0, 0, 0, 0, 0, ...   0     Harper Lee  \n",
       "1  [1, 1, 0, 0, 0, 0, 1, 1, 1, 1, 1, 0, 0, 0, 0, ...   1   J.K. Rowling  \n",
       "2  [1, 1, 1, 1, 1, 0, 0, 0, 0, 0, 0, 1, 1, 0, 0, ...   2    Jane Austen  \n",
       "3  [1, 0, 1, 0, 0, 0, 0, 0, 0, 0, 0, 0, 0, 1, 1, ...   3     Anne Frank  \n",
       "4  [1, 1, 0, 0, 1, 1, 0, 0, 1, 0, 0, 0, 0, 0, 0, ...   4  George Orwell  "
      ]
     },
     "execution_count": 48,
     "metadata": {},
     "output_type": "execute_result"
    }
   ],
   "source": [
    "# We will adapt the code for the Genre Recommender\n",
    "# to give us recommendations of new authors (and their books)\n",
    "\n",
    "# Add book authors to book_by_genre dataset\n",
    "books_authors = books_by_genre\n",
    "books_authors['author'] = books['Author']\n",
    "books_authors.head()"
   ]
  },
  {
   "cell_type": "code",
   "execution_count": 85,
   "metadata": {},
   "outputs": [],
   "source": [
    "# Adapt Genre recommender code for Author Recommender\n",
    "\n",
    "def recommend_by_author(name):\n",
    "    new_book = books_authors[books_authors['Title'].str.contains(name)].iloc[0].to_frame().T\n",
    "    search_term = new_book.Title.values[0]\n",
    "    fav_author = books_authors[books_authors['Title'] == search_term]['author'].values[0]\n",
    "\n",
    "    print('You seem to like books written by: ',fav_author)\n",
    "\n",
    "    # We want books made by different authors so we make a seperate dataframe\n",
    "    books_authors_search = books_authors[books_authors.author != fav_author]\n",
    "\n",
    "    # But the row for the base book will still need to be in the dataframe\n",
    "\n",
    "    # Get index of base book row\n",
    "    idx = books_authors.index[books_authors['Title'] == search_term]\n",
    "    #Append row to new df\n",
    "    books_authors_search = pd.concat([books_authors_search, books_authors.iloc[idx]], axis=0, ignore_index=True)\n",
    "    \n",
    "    #books_authors_search = books_authors_search.append(books_authors.iloc[idx])\n",
    "    #Program stated that above methoded may not work with future versions of Pandas\n",
    "\n",
    "    def getNeighbors(baseBook, K):\n",
    "        distances = []\n",
    "    \n",
    "        for index, book in books_authors_search.iterrows():\n",
    "            if book['id'] != baseBook['id'].values[0]:\n",
    "                dist = Similarity(baseBook['id'].values[0], book['id'])\n",
    "                distances.append((book['id'], dist))\n",
    "    \n",
    "        distances.sort(key=operator.itemgetter(1))\n",
    "        neighbors = []\n",
    "    \n",
    "        for x in range(K):\n",
    "            neighbors.append(distances[x])\n",
    "        return neighbors\n",
    "\n",
    "    K = 10\n",
    "    avgRating = 0\n",
    "    neighbors = getNeighbors(new_book, K)\n",
    "    \n",
    "    print('\\nYou may also like books by these authors: \\n')\n",
    "    for neighbor in neighbors:\n",
    "        avgRating = avgRating+books_authors.iloc[neighbor[0]][2]  \n",
    "        print(books_authors.iloc[neighbor[0]][5]+\" | Book: \"+str(books_authors.iloc[neighbor[0]][0]+\" | Rating: \"+str(books_by_genre.iloc[neighbor[0]][2])))\n",
    "    \n",
    "    print('\\n')\n",
    "    #avgRating = avgRating/K"
   ]
  },
  {
   "attachments": {},
   "cell_type": "markdown",
   "metadata": {},
   "source": [
    "With the recommender built, we can now test it!"
   ]
  },
  {
   "cell_type": "code",
   "execution_count": 86,
   "metadata": {},
   "outputs": [
    {
     "name": "stdout",
     "output_type": "stream",
     "text": [
      "You seem to like books written by:  J.K. Rowling\n",
      "\n",
      "You may also like books by these authors: \n",
      "\n",
      "Kennilworthy Whisp | Book: Quidditch Through the Ages | Rating: 3.81\n",
      "Newt Scamander | Book: Fantastic Beasts and Where to Find Them | Rating: 3.96\n",
      "Kelly Barnhill | Book: The Girl Who Drank the Moon | Rating: 4.12\n",
      "Cornelia Funke | Book: Inkheart (Inkworld, #1) | Rating: 3.91\n",
      "Diana Wynne Jones | Book: Howl’s Moving Castle (Howl’s Moving Castle, #1) | Rating: 4.29\n",
      "Neil Gaiman | Book: Coraline | Rating: 4.1\n",
      "Brandon Mull | Book: Fablehaven (Fablehaven, #1) | Rating: 4.12\n",
      "P.L. Travers | Book: Mary Poppins (Mary Poppins, #1) | Rating: 4.02\n",
      "Patricia C. Wrede | Book: Dealing with Dragons (Enchanted Forest Chronicles, #1) | Rating: 4.15\n",
      "Shannon Messenger | Book: Keeper of the Lost Cities (Keeper of the Lost Cities, #1) | Rating: 4.43\n",
      "\n",
      "\n"
     ]
    }
   ],
   "source": [
    "# Test reader 1\n",
    "# This reader is a big Potterhead but has already read the entire series\n",
    "\n",
    "recommend_by_author('Harry Potter and the Prisoner of Azkaban')"
   ]
  },
  {
   "cell_type": "code",
   "execution_count": 87,
   "metadata": {},
   "outputs": [
    {
     "name": "stdout",
     "output_type": "stream",
     "text": [
      "You seem to like books written by:  Oscar Wilde\n",
      "\n",
      "You may also like books by these authors: \n",
      "\n",
      "Mervyn Peake | Book: The Gormenghast Novels (Gormenghast, #1-3) | Rating: 4.01\n",
      "Mervyn Peake | Book: Gormenghast (Gormenghast, #2) | Rating: 4.06\n",
      "Mervyn Peake | Book: Titus Groan (Gormenghast, #1) | Rating: 3.92\n",
      "Matthew Gregory Lewis | Book: The Monk | Rating: 3.82\n",
      "Aldous Huxley | Book: Brave New World / Brave New World Revisited | Rating: 4.16\n",
      "Gabriel García Márquez | Book: One Hundred Years of Solitude | Rating: 4.11\n",
      "Mary Wollstonecraft Shelley | Book: Frankenstein: The 1818 Text | Rating: 3.85\n",
      "Anthony Burgess | Book: A Clockwork Orange | Rating: 4.0\n",
      "Bram Stoker | Book: Dracula | Rating: 4.01\n",
      "Anne Rice | Book: Interview with the Vampire (The Vampire Chronicles, #1) | Rating: 4.01\n",
      "\n",
      "\n"
     ]
    }
   ],
   "source": [
    "# Test reader 2\n",
    "# This reader wants to read books with a similar aesthetic\n",
    "\n",
    "recommend_by_author('The Picture of Dorian Gray')"
   ]
  },
  {
   "cell_type": "code",
   "execution_count": 88,
   "metadata": {},
   "outputs": [
    {
     "name": "stdout",
     "output_type": "stream",
     "text": [
      "You seem to like books written by:  William Shakespeare\n",
      "\n",
      "You may also like books by these authors: \n",
      "\n",
      "Arthur  Miller | Book: The Crucible: A Play in Four Acts | Rating: 3.6\n",
      "Oscar Wilde | Book: The Importance of Being Earnest | Rating: 4.18\n",
      "Arthur  Miller | Book: Death of a Salesman | Rating: 3.56\n",
      "Sophocles | Book: Antigone (The Theban Plays, #3) | Rating: 3.66\n",
      "Sophocles | Book: Oedipus Rex  (The Theban Plays, #1) | Rating: 3.72\n",
      "Tennessee Williams | Book: The Glass Menagerie | Rating: 3.73\n",
      "Tennessee Williams | Book: A Streetcar Named Desire | Rating: 3.98\n",
      "George Bernard Shaw | Book: Pygmalion | Rating: 3.89\n",
      "Robert Bolt | Book: A Man for All Seasons: A Play in Two Acts | Rating: 3.88\n",
      "Sophocles | Book: Antigone; Oedipus the King; Electra | Rating: 3.94\n",
      "\n",
      "\n"
     ]
    }
   ],
   "source": [
    "# Test reader 3\n",
    "# This reader enjoys Shakespeare but wants to read something new\n",
    "\n",
    "recommend_by_author('Macbeth')"
   ]
  },
  {
   "cell_type": "code",
   "execution_count": 89,
   "metadata": {},
   "outputs": [
    {
     "name": "stdout",
     "output_type": "stream",
     "text": [
      "You seem to like books written by:  John Green\n",
      "\n",
      "You may also like books by these authors: \n",
      "\n",
      "Rob Thomas | Book: Rats Saw God | Rating: 3.79\n",
      "Laurie Halse Anderson | Book: Speak | Rating: 4.04\n",
      "Gayle Forman | Book: If I Stay (If I Stay, #1) | Rating: 3.92\n",
      "Rainbow Rowell | Book: Eleanor & Park | Rating: 3.96\n",
      "Ann Brashares | Book: The Sisterhood of the Traveling Pants (Sisterhood, #1) | Rating: 3.83\n",
      "Sarah Dessen | Book: Just Listen | Rating: 4.05\n",
      "Jenny Downham | Book: Before I Die | Rating: 3.81\n",
      "Laurie Halse Anderson | Book: Speak | Rating: 4.04\n",
      "Sarah Dessen | Book: Along for the Ride | Rating: 4.04\n",
      "Justina Chen | Book: North of Beautiful | Rating: 3.92\n",
      "\n",
      "\n"
     ]
    }
   ],
   "source": [
    "# Test reader 4\n",
    "# This reader loves sad romance stories\n",
    "\n",
    "recommend_by_author('The Fault in Our Stars')"
   ]
  },
  {
   "cell_type": "code",
   "execution_count": 90,
   "metadata": {},
   "outputs": [
    {
     "name": "stdout",
     "output_type": "stream",
     "text": [
      "You seem to like books written by:  Margaret Atwood\n",
      "\n",
      "You may also like books by these authors: \n",
      "\n",
      "Roald Dahl | Book: Some Time Never: A Fable for Supermen | Rating: 3.23\n",
      "Janet E. Morris | Book: Wind from the Abyss (Silistra, #3) | Rating: 3.99\n",
      "Lois Lowry | Book: The Giver (The Giver, #1) | Rating: 4.12\n",
      "Aldous Huxley | Book: Brave New World / Brave New World Revisited | Rating: 4.16\n",
      "George Orwell | Book: Animal Farm / 1984 | Rating: 4.3\n",
      "H.G. Wells | Book: The Time Machine | Rating: 3.9\n",
      "Philip K. Dick | Book: Do Androids Dream of Electric Sheep? | Rating: 4.09\n",
      "Ursula K. Le Guin | Book: The Left Hand of Darkness | Rating: 4.09\n",
      "William Gibson | Book: Neuromancer (Sprawl, #1) | Rating: 3.9\n",
      "Ursula K. Le Guin | Book: The Dispossessed: An Ambiguous Utopia | Rating: 4.24\n",
      "\n",
      "\n"
     ]
    }
   ],
   "source": [
    "# Test reader 5\n",
    "# This reader likes dystopian stories\n",
    "\n",
    "recommend_by_author(\"The Handmaid's Tale\")"
   ]
  },
  {
   "attachments": {},
   "cell_type": "markdown",
   "metadata": {},
   "source": [
    "### Concluding Remarks\n",
    "\n",
    "In this notebook, I have made three content-based recommendation systems based on book genre, plot synopsis and author. While they were all successfully able to work, I have some remarks on the results (more detailed discussions will be in the corresponding report in the repository).\n",
    "\n",
    "From the results, it seems that going by genre produced the most sensible results, even the author recommender was adapted from the genre recommender code (and worked the same). Genre results were very similar but were saturated by books of the same author or series. The plot synopsis recommender was more suitable for giving diverse results, however, the results may not really be related."
   ]
  }
 ],
 "metadata": {
  "kernelspec": {
   "display_name": "Python 3",
   "language": "python",
   "name": "python3"
  },
  "language_info": {
   "codemirror_mode": {
    "name": "ipython",
    "version": 3
   },
   "file_extension": ".py",
   "mimetype": "text/x-python",
   "name": "python",
   "nbconvert_exporter": "python",
   "pygments_lexer": "ipython3",
   "version": "3.9.16"
  },
  "orig_nbformat": 4
 },
 "nbformat": 4,
 "nbformat_minor": 2
}
